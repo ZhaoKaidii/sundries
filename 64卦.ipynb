{
 "cells": [
  {
   "cell_type": "code",
   "execution_count": 2,
   "metadata": {},
   "outputs": [
    {
     "name": "stdout",
     "output_type": "stream",
     "text": [
      "90094\n",
      "206808\n",
      "6\n",
      "0\n",
      "6\n",
      "[[1 1 1]\n",
      " [1 0 0]]\n",
      "[1. 1. 1. 1. 0. 0.]\n"
     ]
    },
    {
     "data": {
      "image/png": "[encoded data removed]",
      "text/plain": [
       "<Figure size 432x288 with 1 Axes>"
      ]
     },
     "metadata": {},
     "output_type": "display_data"
    }
   ],
   "source": [
    "import numpy as np\n",
    "import math\n",
    "import matplotlib.pyplot as plt\n",
    "from scipy import optimize, special\n",
    "from numpy import *\n",
    "from pylab import *\n",
    "import decimal\n",
    "import matplotlib as mpl\n",
    "import random\n",
    "import numpy as np \n",
    "\n",
    "Bagua=np.array([[1,1,1],[0,0,0],[0,0,1],[0,1,0],[0,1,1],[1,0,0],[1,0,1],[1,1,0]])\n",
    "H=8\n",
    "A=random.randint(1,256600)\n",
    "B=random.randint(1,256600)\n",
    "a=A%8\n",
    "b=B%8\n",
    "by=(A+B+H)%6\n",
    "\n",
    "\n",
    "\n",
    "if by==0:\n",
    "    by=6\n",
    "else:\n",
    "    s=0\n",
    "print(A)\n",
    "print(B)\n",
    "print(a)\n",
    "print(b)\n",
    "print(by)\n",
    "j=Bagua[a]\n",
    "k=Bagua[b]\n",
    "by=by-1\n",
    "if by<=2:\n",
    "    by=by\n",
    "    i=0\n",
    "else:\n",
    "    by=by-3\n",
    "    i=1\n",
    "G=np.array([k,j])\n",
    "if G[i][by]==0:\n",
    "    G[i][by]=1\n",
    "else:\n",
    "    G[i][by]=0\n",
    "x=arange(0,1)\n",
    "U=0\n",
    "V=0\n",
    "i=0\n",
    "x=np.arange(-0.2,0.2,0.001)\n",
    "g=np.zeros(6)\n",
    "while i<3:\n",
    "    g[i]=G[0][i]\n",
    "    i=i+1\n",
    "else:\n",
    "    i=3\n",
    "while i<6:\n",
    "    g[i]=G[1][i-3]\n",
    "    i=i+1\n",
    "else:\n",
    "    i=0        \n",
    "print(G)\n",
    "print(g)\n",
    "i=0\n",
    "X1=np.arange(-0.2,-0.05,0.001)\n",
    "X2=np.arange(0.05,0.2,0.001)\n",
    "o=0\n",
    "while i<6:\n",
    "    if g[i]==0:\n",
    "        y=0*x+o\n",
    "        plot(x,y,c='k',linewidth=18)\n",
    "    else:\n",
    "        \n",
    "        y=0*X1*X2+o\n",
    "        plot(X1,y,c='k',linewidth=18)\n",
    "        plot(X2,y,c='k',linewidth=18)\n",
    "    i=i+1\n",
    "    o=o+15\n",
    "else:\n",
    "    y=0\n",
    "plt.show()\n",
    "plt.rc('figure',figsize=(5,5))"
   ]
  },
  {
   "cell_type": "code",
   "execution_count": null,
   "metadata": {},
   "outputs": [],
   "source": []
  }
 ],
 "metadata": {
  "kernelspec": {
   "display_name": "Python 3",
   "language": "python",
   "name": "python3"
  },
  "language_info": {
   "codemirror_mode": {
    "name": "ipython",
    "version": 3
   },
   "file_extension": ".py",
   "mimetype": "text/x-python",
   "name": "python",
   "nbconvert_exporter": "python",
   "pygments_lexer": "ipython3",
   "version": "3.6.5"
  }
 },
 "nbformat": 4,
 "nbformat_minor": 2
}
